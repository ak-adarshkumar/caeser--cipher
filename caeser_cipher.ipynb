{
 "cells": [
  {
   "cell_type": "code",
   "execution_count": 1,
   "id": "add98959-f066-45df-958d-dada11c995f4",
   "metadata": {},
   "outputs": [
    {
     "name": "stdin",
     "output_type": "stream",
     "text": [
      "Type 'encode' to encrypt, type 'decode' to decrypt:\n",
      " decode\n",
      "Type your message:\n",
      " abc\n",
      "Type the shift number:\n",
      " 3\n"
     ]
    },
    {
     "name": "stdout",
     "output_type": "stream",
     "text": [
      "Here is the decoded result: xyz\n"
     ]
    },
    {
     "name": "stdin",
     "output_type": "stream",
     "text": [
      "Type 'yes' if you want to go again. Otherwise, type 'no'.\n",
      " no\n"
     ]
    },
    {
     "name": "stdout",
     "output_type": "stream",
     "text": [
      "Goodbye\n"
     ]
    }
   ],
   "source": [
    "#caeser cipher\n",
    "alphabet = ['a', 'b', 'c', 'd', 'e', 'f', 'g', 'h', 'i', 'j', 'k', 'l', 'm', 'n', 'o', 'p', 'q', 'r', 's', 't', 'u', 'v', 'w', 'x', 'y', 'z']\n",
    "\n",
    "\n",
    "def caesar(original_text, shift_amount, encode_or_decode):\n",
    "    new_text = \"\"\n",
    "    if encode_or_decode == \"decode\":\n",
    "        shift_amount = -shift_amount\n",
    "    for letter in original_text:\n",
    "\n",
    "        if letter not in original_text:\n",
    "            new_text += letter\n",
    "        else:\n",
    "            new_position = alphabet.index(letter) + shift_amount\n",
    "            new_position %= len(alphabet) # other ways to do that is to add another list at the end so that the 28,29,30th\n",
    "                                          # position will be a,b,c ... and so on\n",
    "            new_text += alphabet[new_position]\n",
    "    print(f\"Here is the {encode_or_decode}d result: {new_text}\")\n",
    "\n",
    "\n",
    "\n",
    "continue_again = True\n",
    "while continue_again:\n",
    "    direction = input(\"Type 'encode' to encrypt, type 'decode' to decrypt:\\n\").lower()\n",
    "    text = input(\"Type your message:\\n\").lower()\n",
    "    shift = int(input(\"Type the shift number:\\n\"))\n",
    "\n",
    "    caesar(original_text=text, shift_amount=shift, encode_or_decode=direction)\n",
    "    restart = input(\"Type 'yes' if you want to go again. Otherwise, type 'no'.\\n\").lower()\n",
    "    if restart == \"no\":\n",
    "        continue_again = False\n",
    "        print(\"Goodbye\")"
   ]
  },
  {
   "cell_type": "code",
   "execution_count": null,
   "id": "a27b7f06-dc16-4c72-9bfc-95bb0ca656ee",
   "metadata": {},
   "outputs": [],
   "source": []
  }
 ],
 "metadata": {
  "kernelspec": {
   "display_name": "Python 3 (ipykernel)",
   "language": "python",
   "name": "python3"
  },
  "language_info": {
   "codemirror_mode": {
    "name": "ipython",
    "version": 3
   },
   "file_extension": ".py",
   "mimetype": "text/x-python",
   "name": "python",
   "nbconvert_exporter": "python",
   "pygments_lexer": "ipython3",
   "version": "3.11.7"
  }
 },
 "nbformat": 4,
 "nbformat_minor": 5
}
